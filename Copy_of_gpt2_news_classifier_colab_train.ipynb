{
  "cells": [
    {
      "cell_type": "markdown",
      "metadata": {
        "id": "view-in-github",
        "colab_type": "text"
      },
      "source": [
        "<a href=\"https://colab.research.google.com/github/amalhtait/ASID/blob/master/Copy_of_gpt2_news_classifier_colab_train.ipynb\" target=\"_parent\"><img src=\"https://colab.research.google.com/assets/colab-badge.svg\" alt=\"Open In Colab\"/></a>"
      ]
    },
    {
      "cell_type": "markdown",
      "id": "cb1fedf1",
      "metadata": {
        "id": "cb1fedf1"
      },
      "source": [
        "# Text Classification using fine-tuned GPT-2 model"
      ]
    },
    {
      "cell_type": "markdown",
      "id": "ae39e215",
      "metadata": {
        "id": "ae39e215"
      },
      "source": [
        "[![Open In Colab](https://colab.research.google.com/assets/colab-badge.svg)](https://colab.research.google.com/drive/1dMTdO5vxdVX0NA2Qe7AV9WGEy8ZH67Xn?usp=sharing) &nbsp;[![Generic badge](https://img.shields.io/badge/GitHub-Source-greensvg)](https://github.com/haocai1992/GPT2-News-Classifier/blob/main/colab-train/gpt2-news-classifier-colab-train.ipynb)"
      ]
    },
    {
      "cell_type": "markdown",
      "id": "bc42c176",
      "metadata": {
        "id": "bc42c176"
      },
      "source": [
        "This notebook demonstrates how to use a pre-trained GPT-2 model from [HuggingFace](https://huggingface.co/transformers/) to perform text classification task.\n",
        "\n",
        "Both BERT and GPT-2 are state-of-the-art transformer models (less \"SOTA\" now in 2022, with emergence of GPT-3 and other new ones...) that has phenomenal performance in many NLP tasks. One big difference between these two is that GPT-2 was built using decoder blocks, while BERT uses encoder blocks. Therefore, GPT-2 is mostly used in text-generation tasks. Unlike BERT, I couldn't find a lot of articles/tech blogs talking about using GPT-2 for **text classification** tasks. That's why I want to try that out here!\n",
        "\n",
        "The **main idea** is this: Since GPT2 is a decoder transformer, the last token of the input sequence is used to make predictions about the next token that should follow the input. This means that the last token of the input sequence can be used to for predictions in a classification task too."
      ]
    },
    {
      "cell_type": "markdown",
      "id": "574e5963",
      "metadata": {
        "id": "574e5963"
      },
      "source": [
        "## Install and import packages"
      ]
    },
    {
      "cell_type": "code",
      "execution_count": null,
      "id": "1a1d27a9",
      "metadata": {
        "id": "1a1d27a9"
      },
      "outputs": [],
      "source": [
        "!pip3 install torch==1.10.2+cu113 torchvision==0.11.3+cu113 torchaudio==0.10.2+cu113 -f https://download.pytorch.org/whl/cu113/torch_stable.html\n",
        "!pip3 install pandas\n",
        "!pip3 install numpy\n",
        "!pip3 install sklearn\n",
        "!pip3 install tqdm\n",
        "!pip3 install transformers"
      ]
    },
    {
      "cell_type": "code",
      "execution_count": null,
      "id": "e741e3d1",
      "metadata": {
        "id": "e741e3d1"
      },
      "outputs": [],
      "source": [
        "import torch\n",
        "import numpy as np\n",
        "import matplotlib.pyplot as plt\n",
        "\n",
        "from google.colab import drive\n",
        "from torch import nn\n",
        "from torch.optim import Adam\n",
        "from transformers import GPT2Model, GPT2Tokenizer\n",
        "from tqdm import tqdm\n",
        "\n",
        "from sklearn.metrics import confusion_matrix\n",
        "from sklearn.metrics import ConfusionMatrixDisplay"
      ]
    },
    {
      "cell_type": "markdown",
      "source": [
        "## Setup Google Drive"
      ],
      "metadata": {
        "id": "T6XPDr2CTdoB"
      },
      "id": "T6XPDr2CTdoB"
    },
    {
      "cell_type": "code",
      "source": [
        "drive.mount('/content/drive/')"
      ],
      "metadata": {
        "colab": {
          "base_uri": "https://localhost:8080/"
        },
        "id": "h73s7xA4TbMP",
        "outputId": "22584956-1002-4818-e954-f0292d333336"
      },
      "id": "h73s7xA4TbMP",
      "execution_count": null,
      "outputs": [
        {
          "output_type": "stream",
          "name": "stdout",
          "text": [
            "Mounted at /content/drive/\n"
          ]
        }
      ]
    },
    {
      "cell_type": "code",
      "source": [
        "%cd /content/drive/My Drive/"
      ],
      "metadata": {
        "colab": {
          "base_uri": "https://localhost:8080/"
        },
        "id": "qUhs5CRjUGXg",
        "outputId": "b79515c1-919b-4ea2-debe-97273f695b0e"
      },
      "id": "qUhs5CRjUGXg",
      "execution_count": null,
      "outputs": [
        {
          "output_type": "stream",
          "name": "stdout",
          "text": [
            "/content/drive/My Drive\n"
          ]
        }
      ]
    },
    {
      "cell_type": "markdown",
      "id": "c3b5ebf5",
      "metadata": {
        "id": "c3b5ebf5"
      },
      "source": [
        "## Read data"
      ]
    },
    {
      "cell_type": "markdown",
      "id": "10f13f2b",
      "metadata": {
        "id": "10f13f2b"
      },
      "source": [
        "The dataset we are going to use in this notebook is the *[BBC News Classification dataset](http://mlg.ucd.ie/datasets/bbc.html)*. You can download the dataset in [Kaggle](https://www.kaggle.com/c/learn-ai-bbc/data)."
      ]
    },
    {
      "cell_type": "code",
      "execution_count": null,
      "id": "5539aaa3",
      "metadata": {
        "id": "5539aaa3"
      },
      "outputs": [],
      "source": [
        "import pandas as pd"
      ]
    },
    {
      "cell_type": "code",
      "execution_count": null,
      "id": "194ae8ef",
      "metadata": {
        "id": "194ae8ef"
      },
      "outputs": [],
      "source": [
        "#df = pd.read_csv('./data/bbc-text.csv')\n",
        "#df = pd.read_csv('/content/gdrive/MyDrive/Colab Notebooks/dataset/HoP/bbc-text-small.csv') # smaller dataset to save training time.\n",
        "#data = pd.read_csv('./Colab Notebooks/dataset/HoP/All_Data_SF2.csv', delimiter=',', encoding='cp1252')\n",
        "#data = pd.read_csv('./Colab Notebooks/dataset/HoP/All_Data_DW2.csv', delimiter=',', encoding=\"utf8\")\n",
        "df = pd.read_csv('./Colab Notebooks/dataset/HoP/All_Data_MN2.csv', delimiter=',', encoding=\"cp1252\")"
      ]
    },
    {
      "cell_type": "markdown",
      "id": "8b3a0ebe",
      "metadata": {
        "id": "8b3a0ebe"
      },
      "source": [
        "This dataset is in CSV format and it has 2126 different texts, each labeled under one of 5 categories: entertainment, sport, tech, business, or politics. It has two columns, **category** which will be the label; and **text** which will be our input data for GPT-2."
      ]
    },
    {
      "cell_type": "code",
      "execution_count": null,
      "id": "531e2aeb",
      "metadata": {
        "scrolled": true,
        "colab": {
          "base_uri": "https://localhost:8080/",
          "height": 206
        },
        "id": "531e2aeb",
        "outputId": "260d82cc-24ff-40cb-f0e0-8b8241d046d2"
      },
      "outputs": [
        {
          "output_type": "execute_result",
          "data": {
            "text/plain": [
              "   category                                               text\n",
              "0         0  So as I start thinking about family finding. I...\n",
              "1         1  I guess the answer is that the children don't ...\n",
              "2         0  Sorry. I should start again. I should rephrase...\n",
              "3         1  Have you been approved yet through adoption pa...\n",
              "4         1  It's a good question. We adopted from Russia s..."
            ],
            "text/html": [
              "\n",
              "  <div id=\"df-d631007a-eb63-4a6b-8f54-4be5a9d97be6\">\n",
              "    <div class=\"colab-df-container\">\n",
              "      <div>\n",
              "<style scoped>\n",
              "    .dataframe tbody tr th:only-of-type {\n",
              "        vertical-align: middle;\n",
              "    }\n",
              "\n",
              "    .dataframe tbody tr th {\n",
              "        vertical-align: top;\n",
              "    }\n",
              "\n",
              "    .dataframe thead th {\n",
              "        text-align: right;\n",
              "    }\n",
              "</style>\n",
              "<table border=\"1\" class=\"dataframe\">\n",
              "  <thead>\n",
              "    <tr style=\"text-align: right;\">\n",
              "      <th></th>\n",
              "      <th>category</th>\n",
              "      <th>text</th>\n",
              "    </tr>\n",
              "  </thead>\n",
              "  <tbody>\n",
              "    <tr>\n",
              "      <th>0</th>\n",
              "      <td>0</td>\n",
              "      <td>So as I start thinking about family finding. I...</td>\n",
              "    </tr>\n",
              "    <tr>\n",
              "      <th>1</th>\n",
              "      <td>1</td>\n",
              "      <td>I guess the answer is that the children don't ...</td>\n",
              "    </tr>\n",
              "    <tr>\n",
              "      <th>2</th>\n",
              "      <td>0</td>\n",
              "      <td>Sorry. I should start again. I should rephrase...</td>\n",
              "    </tr>\n",
              "    <tr>\n",
              "      <th>3</th>\n",
              "      <td>1</td>\n",
              "      <td>Have you been approved yet through adoption pa...</td>\n",
              "    </tr>\n",
              "    <tr>\n",
              "      <th>4</th>\n",
              "      <td>1</td>\n",
              "      <td>It's a good question. We adopted from Russia s...</td>\n",
              "    </tr>\n",
              "  </tbody>\n",
              "</table>\n",
              "</div>\n",
              "      <button class=\"colab-df-convert\" onclick=\"convertToInteractive('df-d631007a-eb63-4a6b-8f54-4be5a9d97be6')\"\n",
              "              title=\"Convert this dataframe to an interactive table.\"\n",
              "              style=\"display:none;\">\n",
              "        \n",
              "  <svg xmlns=\"http://www.w3.org/2000/svg\" height=\"24px\"viewBox=\"0 0 24 24\"\n",
              "       width=\"24px\">\n",
              "    <path d=\"M0 0h24v24H0V0z\" fill=\"none\"/>\n",
              "    <path d=\"M18.56 5.44l.94 2.06.94-2.06 2.06-.94-2.06-.94-.94-2.06-.94 2.06-2.06.94zm-11 1L8.5 8.5l.94-2.06 2.06-.94-2.06-.94L8.5 2.5l-.94 2.06-2.06.94zm10 10l.94 2.06.94-2.06 2.06-.94-2.06-.94-.94-2.06-.94 2.06-2.06.94z\"/><path d=\"M17.41 7.96l-1.37-1.37c-.4-.4-.92-.59-1.43-.59-.52 0-1.04.2-1.43.59L10.3 9.45l-7.72 7.72c-.78.78-.78 2.05 0 2.83L4 21.41c.39.39.9.59 1.41.59.51 0 1.02-.2 1.41-.59l7.78-7.78 2.81-2.81c.8-.78.8-2.07 0-2.86zM5.41 20L4 18.59l7.72-7.72 1.47 1.35L5.41 20z\"/>\n",
              "  </svg>\n",
              "      </button>\n",
              "      \n",
              "  <style>\n",
              "    .colab-df-container {\n",
              "      display:flex;\n",
              "      flex-wrap:wrap;\n",
              "      gap: 12px;\n",
              "    }\n",
              "\n",
              "    .colab-df-convert {\n",
              "      background-color: #E8F0FE;\n",
              "      border: none;\n",
              "      border-radius: 50%;\n",
              "      cursor: pointer;\n",
              "      display: none;\n",
              "      fill: #1967D2;\n",
              "      height: 32px;\n",
              "      padding: 0 0 0 0;\n",
              "      width: 32px;\n",
              "    }\n",
              "\n",
              "    .colab-df-convert:hover {\n",
              "      background-color: #E2EBFA;\n",
              "      box-shadow: 0px 1px 2px rgba(60, 64, 67, 0.3), 0px 1px 3px 1px rgba(60, 64, 67, 0.15);\n",
              "      fill: #174EA6;\n",
              "    }\n",
              "\n",
              "    [theme=dark] .colab-df-convert {\n",
              "      background-color: #3B4455;\n",
              "      fill: #D2E3FC;\n",
              "    }\n",
              "\n",
              "    [theme=dark] .colab-df-convert:hover {\n",
              "      background-color: #434B5C;\n",
              "      box-shadow: 0px 1px 3px 1px rgba(0, 0, 0, 0.15);\n",
              "      filter: drop-shadow(0px 1px 2px rgba(0, 0, 0, 0.3));\n",
              "      fill: #FFFFFF;\n",
              "    }\n",
              "  </style>\n",
              "\n",
              "      <script>\n",
              "        const buttonEl =\n",
              "          document.querySelector('#df-d631007a-eb63-4a6b-8f54-4be5a9d97be6 button.colab-df-convert');\n",
              "        buttonEl.style.display =\n",
              "          google.colab.kernel.accessAllowed ? 'block' : 'none';\n",
              "\n",
              "        async function convertToInteractive(key) {\n",
              "          const element = document.querySelector('#df-d631007a-eb63-4a6b-8f54-4be5a9d97be6');\n",
              "          const dataTable =\n",
              "            await google.colab.kernel.invokeFunction('convertToInteractive',\n",
              "                                                     [key], {});\n",
              "          if (!dataTable) return;\n",
              "\n",
              "          const docLinkHtml = 'Like what you see? Visit the ' +\n",
              "            '<a target=\"_blank\" href=https://colab.research.google.com/notebooks/data_table.ipynb>data table notebook</a>'\n",
              "            + ' to learn more about interactive tables.';\n",
              "          element.innerHTML = '';\n",
              "          dataTable['output_type'] = 'display_data';\n",
              "          await google.colab.output.renderOutput(dataTable, element);\n",
              "          const docLink = document.createElement('div');\n",
              "          docLink.innerHTML = docLinkHtml;\n",
              "          element.appendChild(docLink);\n",
              "        }\n",
              "      </script>\n",
              "    </div>\n",
              "  </div>\n",
              "  "
            ]
          },
          "metadata": {},
          "execution_count": 28
        }
      ],
      "source": [
        "from sklearn.model_selection import train_test_split\n",
        "x_train,x_test,y_train,y_test=train_test_split(df['text'].astype(\"str\"), df['category'],test_size=0.2)\n",
        "\n",
        "df.head()"
      ]
    },
    {
      "cell_type": "code",
      "execution_count": null,
      "id": "a9390985",
      "metadata": {
        "colab": {
          "base_uri": "https://localhost:8080/",
          "height": 461
        },
        "id": "a9390985",
        "outputId": "31e948b2-8f5a-4163-f8ca-59161bdd3eb6"
      },
      "outputs": [
        {
          "output_type": "execute_result",
          "data": {
            "text/plain": [
              "<Axes: xlabel='category'>"
            ]
          },
          "metadata": {},
          "execution_count": 29
        },
        {
          "output_type": "display_data",
          "data": {
            "text/plain": [
              "<Figure size 640x480 with 1 Axes>"
            ],
            "image/png": "[encoded data removed]"
          },
          "metadata": {}
        }
      ],
      "source": [
        "df.groupby(\"category\").size().plot.bar()"
      ]
    },
    {
      "cell_type": "code",
      "source": [
        "from sklearn.utils import resample\n",
        "\n",
        "# Balance the classes\n",
        "df_majority = data[data.category==1]\n",
        "df_minority = data[data.category==0]\n",
        "df_minority_upsampled = resample(df_minority, replace=True, n_samples=len(df_majority), random_state=123)\n",
        "df = pd.concat([df_majority, df_minority_upsampled])"
      ],
      "metadata": {
        "id": "zA_xlqYpuX8m"
      },
      "id": "zA_xlqYpuX8m",
      "execution_count": null,
      "outputs": []
    },
    {
      "cell_type": "code",
      "source": [
        "df.groupby(\"category\").size().plot.bar()"
      ],
      "metadata": {
        "colab": {
          "base_uri": "https://localhost:8080/",
          "height": 461
        },
        "id": "oFvCKvuAvULB",
        "outputId": "252a7c00-46ee-4dc9-a0ce-6b057da4f4a2"
      },
      "id": "oFvCKvuAvULB",
      "execution_count": null,
      "outputs": [
        {
          "output_type": "execute_result",
          "data": {
            "text/plain": [
              "<Axes: xlabel='category'>"
            ]
          },
          "metadata": {},
          "execution_count": 52
        },
        {
          "output_type": "display_data",
          "data": {
            "text/plain": [
              "<Figure size 640x480 with 1 Axes>"
            ],
            "image/png": "[encoded data removed]"
          },
          "metadata": {}
        }
      ]
    },
    {
      "cell_type": "markdown",
      "id": "2c8a45a7",
      "metadata": {
        "id": "2c8a45a7"
      },
      "source": [
        "## Preprocessing data (text tokenization)"
      ]
    },
    {
      "cell_type": "markdown",
      "id": "97321467",
      "metadata": {
        "id": "97321467"
      },
      "source": [
        "We need to tokenize the input text in order to feed GPT-2 model with its expected data format. This can be easily done using HuggingFace Transformers' GPT2Tokenizer object. However, unlike BERT which does padding to the right, for GPT-2 we need to do padding to the left, because we need to use the last token for prediction. Therefore we need to adapt GPT2Tokenizer after calling."
      ]
    },
    {
      "cell_type": "code",
      "execution_count": null,
      "id": "09df6fb7",
      "metadata": {
        "id": "09df6fb7"
      },
      "outputs": [],
      "source": [
        "tokenizer = GPT2Tokenizer.from_pretrained('gpt2')\n",
        "tokenizer.padding_side = \"left\"\n",
        "tokenizer.pad_token = tokenizer.eos_token"
      ]
    },
    {
      "cell_type": "code",
      "execution_count": null,
      "id": "d4dc1eef",
      "metadata": {
        "id": "d4dc1eef"
      },
      "outputs": [],
      "source": [
        "example_text = \"I will watch Memento tonight\"\n",
        "gpt2_input = tokenizer(example_text, padding=\"max_length\", max_length=10, truncation=True, return_tensors=\"pt\")"
      ]
    },
    {
      "cell_type": "code",
      "execution_count": null,
      "id": "a5a407e1",
      "metadata": {
        "colab": {
          "base_uri": "https://localhost:8080/"
        },
        "id": "a5a407e1",
        "outputId": "8bdb664f-74d1-4eb4-a053-ef26f3b0c58b"
      },
      "outputs": [
        {
          "output_type": "stream",
          "name": "stdout",
          "text": [
            "tensor([[50256, 50256, 50256,    40,   481,  2342,   337,   972,    78,  9975]])\n"
          ]
        }
      ],
      "source": [
        "print(gpt2_input['input_ids'])"
      ]
    },
    {
      "cell_type": "code",
      "execution_count": null,
      "id": "fe66b117",
      "metadata": {
        "colab": {
          "base_uri": "https://localhost:8080/"
        },
        "id": "fe66b117",
        "outputId": "b71a0708-4232-4871-e6d1-ab6a3a21a010"
      },
      "outputs": [
        {
          "output_type": "stream",
          "name": "stdout",
          "text": [
            "tensor([[0, 0, 0, 1, 1, 1, 1, 1, 1, 1]])\n"
          ]
        }
      ],
      "source": [
        "print(gpt2_input[\"attention_mask\"])"
      ]
    },
    {
      "cell_type": "code",
      "execution_count": null,
      "id": "ee99b63f",
      "metadata": {
        "colab": {
          "base_uri": "https://localhost:8080/"
        },
        "id": "ee99b63f",
        "outputId": "03211a25-a785-4449-f71c-97b4b8234bbd"
      },
      "outputs": [
        {
          "output_type": "stream",
          "name": "stdout",
          "text": [
            "<|endoftext|><|endoftext|><|endoftext|>I will watch Memento tonight\n"
          ]
        }
      ],
      "source": [
        "example_text = tokenizer.decode(gpt2_input.input_ids[0])\n",
        "print(example_text)"
      ]
    },
    {
      "cell_type": "markdown",
      "id": "9f080f7c",
      "metadata": {
        "id": "9f080f7c"
      },
      "source": [
        "## Dataset class"
      ]
    },
    {
      "cell_type": "markdown",
      "id": "2f4c65cc",
      "metadata": {
        "id": "2f4c65cc"
      },
      "source": [
        "PyTorch provides a very convenient way to construct cusom Dataset class to facilitate model training. See more details [here](https://pytorch.org/tutorials/beginner/basics/data_tutorial.html). Here we will build a custom Dataset class to read in our news data, tokenize them, and store them into containers for batch training."
      ]
    },
    {
      "cell_type": "code",
      "execution_count": null,
      "id": "5b73b951",
      "metadata": {
        "id": "5b73b951"
      },
      "outputs": [],
      "source": [
        "tokenizer = GPT2Tokenizer.from_pretrained('gpt2')\n",
        "tokenizer.padding_side = \"left\"\n",
        "tokenizer.pad_token = tokenizer.eos_token\n",
        "\n",
        "labels = {\n",
        "    0: 0,\n",
        "    1: 1\n",
        "         }\n",
        "\n",
        "'''\n",
        "labels = {\n",
        "    \"business\": 0,\n",
        "    \"entertainment\": 1,\n",
        "    \"sport\": 2,\n",
        "    \"tech\": 3,\n",
        "    \"politics\": 4\n",
        "         }\n",
        "'''\n",
        "class Dataset(torch.utils.data.Dataset):\n",
        "    def __init__(self, df):\n",
        "        self.labels = [labels[label] for label in df['category']]\n",
        "        self.texts = [tokenizer(text,\n",
        "                                padding='max_length',\n",
        "                                max_length=128,\n",
        "                                truncation=True,\n",
        "                                return_tensors=\"pt\") for text in df['text']]\n",
        "        \n",
        "    def classes(self):\n",
        "        return self.labels\n",
        "    \n",
        "    def __len__(self):\n",
        "        return len(self.labels)\n",
        "    \n",
        "    def get_batch_labels(self, idx):\n",
        "        # Get a batch of labels\n",
        "        return np.array(self.labels[idx])\n",
        "    \n",
        "    def get_batch_texts(self, idx):\n",
        "        # Get a batch of inputs\n",
        "        return self.texts[idx]\n",
        "    \n",
        "    def __getitem__(self, idx):\n",
        "        batch_texts = self.get_batch_texts(idx)\n",
        "        batch_y = self.get_batch_labels(idx)\n",
        "        return batch_texts, batch_y"
      ]
    },
    {
      "cell_type": "markdown",
      "id": "b2b70d19",
      "metadata": {
        "id": "b2b70d19"
      },
      "source": [
        "## Split training-test dataset"
      ]
    },
    {
      "cell_type": "markdown",
      "id": "53fd7144",
      "metadata": {
        "id": "53fd7144"
      },
      "source": [
        "One more thing to do before we start with models. We need to split train, validation and test data as separate dataframes. Numpy's split function can do just that."
      ]
    },
    {
      "cell_type": "code",
      "execution_count": null,
      "id": "aa8a30c1",
      "metadata": {
        "colab": {
          "base_uri": "https://localhost:8080/"
        },
        "id": "aa8a30c1",
        "outputId": "003be8fb-146e-4c02-c94b-8203bcd094f3"
      },
      "outputs": [
        {
          "output_type": "stream",
          "name": "stdout",
          "text": [
            "281 35 36\n"
          ]
        }
      ],
      "source": [
        "np.random.seed(112)\n",
        "df_train2, df_val2, df_test = np.split(df.sample(frac=1, random_state=35),\n",
        "                                     [int(0.8*len(df)), int(0.9*len(df))])\n",
        "\n",
        "print(len(df_train2), len(df_val2), len(df_test))"
      ]
    },
    {
      "cell_type": "code",
      "source": [
        "from sklearn.utils import resample\n",
        "\n",
        "x_train,x_test,y_train,y_test=train_test_split(df['text'].astype(\"str\"), df['label'],test_size=0.2)\n",
        "\n",
        "df_majority = df_train2[df_val2==1]\n",
        "df_minority = df_train2[df_val2==0]\n",
        "#print(df_majority)\n",
        "#df_minority_upsampled = resample(df_minority, replace=True, n_samples=len(df_majority), random_state=123)\n",
        "#x_train_balanced, y_train_balanced = pd.concat([df_majority, df_minority_upsampled])\n",
        "df_train, df_val = resample(\n",
        "    np.concatenate([df_majority, df_minority]), \n",
        "    np.concatenate([np.ones(len(df_majority)), np.zeros(len(df_minority))]), \n",
        "    replace=True, n_samples=len(df_majority))\n",
        "\n",
        "print(len(df_train), len(df_val), len(df_test))\n",
        "\n",
        "\n",
        "\n",
        "# Define tokenizer and convert text to sequences\n",
        "tokenizer = Tokenizer(num_words=5000, oov_token=\"<OOV>\")\n",
        "tokenizer.fit_on_texts(x_train)\n",
        "train_sequences = tokenizer.texts_to_sequences(x_train)\n",
        "test_sequences = tokenizer.texts_to_sequences(x_test)\n",
        "\n"
      ],
      "metadata": {
        "colab": {
          "base_uri": "https://localhost:8080/"
        },
        "id": "BaER-3Nlrpmi",
        "outputId": "71bff04a-aeb5-4c50-a2c1-5dd538f84470"
      },
      "id": "BaER-3Nlrpmi",
      "execution_count": null,
      "outputs": [
        {
          "output_type": "stream",
          "name": "stdout",
          "text": [
            "281 281 36\n"
          ]
        }
      ]
    },
    {
      "cell_type": "markdown",
      "id": "14f92730",
      "metadata": {
        "id": "14f92730"
      },
      "source": [
        "## Model building"
      ]
    },
    {
      "cell_type": "markdown",
      "id": "84f05f6b",
      "metadata": {
        "id": "84f05f6b"
      },
      "source": [
        "Now comes to the most important part of this notebook. We need to buid a classifier model on top of a pre-trained GPT-2 model. The trick here is to add a linear layer on top of GPT-2's 12 layers of decoders with its output dimension equals our number of labels. In this way we can use GPT-2 to output 5 numbers which corresponds to our five news categories!\n",
        "\n",
        "For more information about how to build customized models in PyTorch, see [here](https://pytorch.org/tutorials/beginner/basics/buildmodel_tutorial.html)."
      ]
    },
    {
      "cell_type": "code",
      "execution_count": null,
      "id": "d9479c79",
      "metadata": {
        "id": "d9479c79"
      },
      "outputs": [],
      "source": [
        "class SimpleGPT2SequenceClassifier(nn.Module):\n",
        "    def __init__(self, hidden_size: int, num_classes:int ,max_seq_len:int, gpt_model_name:str):\n",
        "        super(SimpleGPT2SequenceClassifier,self).__init__()\n",
        "        self.gpt2model = GPT2Model.from_pretrained(gpt_model_name)\n",
        "        self.fc1 = nn.Linear(hidden_size*max_seq_len, num_classes)\n",
        "\n",
        "        \n",
        "    def forward(self, input_id, mask):\n",
        "        \"\"\"\n",
        "        Args:\n",
        "                input_id: encoded inputs ids of sent.\n",
        "        \"\"\"\n",
        "        gpt_out, _ = self.gpt2model(input_ids=input_id, attention_mask=mask, return_dict=False)\n",
        "        batch_size = gpt_out.shape[0]\n",
        "        linear_output = self.fc1(gpt_out.view(batch_size,-1))\n",
        "        return linear_output"
      ]
    },
    {
      "cell_type": "markdown",
      "id": "1587a77d",
      "metadata": {
        "id": "1587a77d"
      },
      "source": [
        "## Training loop"
      ]
    },
    {
      "cell_type": "markdown",
      "id": "d1195c4d",
      "metadata": {
        "id": "d1195c4d"
      },
      "source": [
        "Now it's time to train (fine-tune) our model! Here I build a standard PyTorch training loop following [this guide](https://pytorch.org/tutorials/beginner/basics/optimization_tutorial.html). Since this is a multi-class classification problem, I picked [cross-entropy-loss](https://pytorch.org/docs/stable/generated/torch.nn.CrossEntropyLoss.html) as our loss function (\"criterion\"), and [Adam](https://pytorch.org/docs/stable/generated/torch.optim.Adam.html) as the optimization algorithm."
      ]
    },
    {
      "cell_type": "code",
      "execution_count": null,
      "id": "7dc4a339",
      "metadata": {
        "scrolled": false,
        "colab": {
          "base_uri": "https://localhost:8080/",
          "height": 345
        },
        "id": "7dc4a339",
        "outputId": "d0c1f306-74fc-42e6-8426-103f2e7ad276"
      },
      "outputs": [
        {
          "output_type": "error",
          "ename": "IndexError",
          "evalue": "ignored",
          "traceback": [
            "\u001b[0;31m---------------------------------------------------------------------------\u001b[0m",
            "\u001b[0;31mIndexError\u001b[0m                                Traceback (most recent call last)",
            "\u001b[0;32m<ipython-input-23-fce9c6fb9289>\u001b[0m in \u001b[0;36m<cell line: 68>\u001b[0;34m()\u001b[0m\n\u001b[1;32m     66\u001b[0m \u001b[0mLR\u001b[0m \u001b[0;34m=\u001b[0m \u001b[0;36m1e-5\u001b[0m\u001b[0;34m\u001b[0m\u001b[0;34m\u001b[0m\u001b[0m\n\u001b[1;32m     67\u001b[0m \u001b[0;34m\u001b[0m\u001b[0m\n\u001b[0;32m---> 68\u001b[0;31m \u001b[0mtrain\u001b[0m\u001b[0;34m(\u001b[0m\u001b[0mmodel\u001b[0m\u001b[0;34m,\u001b[0m \u001b[0mdf_train\u001b[0m\u001b[0;34m,\u001b[0m \u001b[0mdf_val\u001b[0m\u001b[0;34m,\u001b[0m \u001b[0mLR\u001b[0m\u001b[0;34m,\u001b[0m \u001b[0mEPOCHS\u001b[0m\u001b[0;34m)\u001b[0m\u001b[0;34m\u001b[0m\u001b[0;34m\u001b[0m\u001b[0m\n\u001b[0m",
            "\u001b[0;32m<ipython-input-23-fce9c6fb9289>\u001b[0m in \u001b[0;36mtrain\u001b[0;34m(model, train_data, val_data, learning_rate, epochs)\u001b[0m\n\u001b[1;32m      1\u001b[0m \u001b[0;32mdef\u001b[0m \u001b[0mtrain\u001b[0m\u001b[0;34m(\u001b[0m\u001b[0mmodel\u001b[0m\u001b[0;34m,\u001b[0m \u001b[0mtrain_data\u001b[0m\u001b[0;34m,\u001b[0m \u001b[0mval_data\u001b[0m\u001b[0;34m,\u001b[0m \u001b[0mlearning_rate\u001b[0m\u001b[0;34m,\u001b[0m \u001b[0mepochs\u001b[0m\u001b[0;34m)\u001b[0m\u001b[0;34m:\u001b[0m\u001b[0;34m\u001b[0m\u001b[0;34m\u001b[0m\u001b[0m\n\u001b[0;32m----> 2\u001b[0;31m     \u001b[0mtrain\u001b[0m\u001b[0;34m,\u001b[0m \u001b[0mval\u001b[0m \u001b[0;34m=\u001b[0m \u001b[0mDataset\u001b[0m\u001b[0;34m(\u001b[0m\u001b[0mtrain_data\u001b[0m\u001b[0;34m)\u001b[0m\u001b[0;34m,\u001b[0m \u001b[0mDataset\u001b[0m\u001b[0;34m(\u001b[0m\u001b[0mval_data\u001b[0m\u001b[0;34m)\u001b[0m\u001b[0;34m\u001b[0m\u001b[0;34m\u001b[0m\u001b[0m\n\u001b[0m\u001b[1;32m      3\u001b[0m \u001b[0;34m\u001b[0m\u001b[0m\n\u001b[1;32m      4\u001b[0m     \u001b[0mtrain_dataloader\u001b[0m \u001b[0;34m=\u001b[0m \u001b[0mtorch\u001b[0m\u001b[0;34m.\u001b[0m\u001b[0mutils\u001b[0m\u001b[0;34m.\u001b[0m\u001b[0mdata\u001b[0m\u001b[0;34m.\u001b[0m\u001b[0mDataLoader\u001b[0m\u001b[0;34m(\u001b[0m\u001b[0mtrain\u001b[0m\u001b[0;34m,\u001b[0m \u001b[0mbatch_size\u001b[0m\u001b[0;34m=\u001b[0m\u001b[0;36m2\u001b[0m\u001b[0;34m,\u001b[0m \u001b[0mshuffle\u001b[0m\u001b[0;34m=\u001b[0m\u001b[0;32mTrue\u001b[0m\u001b[0;34m)\u001b[0m\u001b[0;34m\u001b[0m\u001b[0;34m\u001b[0m\u001b[0m\n\u001b[1;32m      5\u001b[0m     \u001b[0mval_dataloader\u001b[0m \u001b[0;34m=\u001b[0m \u001b[0mtorch\u001b[0m\u001b[0;34m.\u001b[0m\u001b[0mutils\u001b[0m\u001b[0;34m.\u001b[0m\u001b[0mdata\u001b[0m\u001b[0;34m.\u001b[0m\u001b[0mDataLoader\u001b[0m\u001b[0;34m(\u001b[0m\u001b[0mval\u001b[0m\u001b[0;34m,\u001b[0m \u001b[0mbatch_size\u001b[0m\u001b[0;34m=\u001b[0m\u001b[0;36m2\u001b[0m\u001b[0;34m)\u001b[0m\u001b[0;34m\u001b[0m\u001b[0;34m\u001b[0m\u001b[0m\n",
            "\u001b[0;32m<ipython-input-8-4a6e1af509d3>\u001b[0m in \u001b[0;36m__init__\u001b[0;34m(self, df)\u001b[0m\n\u001b[1;32m     19\u001b[0m \u001b[0;32mclass\u001b[0m \u001b[0mDataset\u001b[0m\u001b[0;34m(\u001b[0m\u001b[0mtorch\u001b[0m\u001b[0;34m.\u001b[0m\u001b[0mutils\u001b[0m\u001b[0;34m.\u001b[0m\u001b[0mdata\u001b[0m\u001b[0;34m.\u001b[0m\u001b[0mDataset\u001b[0m\u001b[0;34m)\u001b[0m\u001b[0;34m:\u001b[0m\u001b[0;34m\u001b[0m\u001b[0;34m\u001b[0m\u001b[0m\n\u001b[1;32m     20\u001b[0m     \u001b[0;32mdef\u001b[0m \u001b[0m__init__\u001b[0m\u001b[0;34m(\u001b[0m\u001b[0mself\u001b[0m\u001b[0;34m,\u001b[0m \u001b[0mdf\u001b[0m\u001b[0;34m)\u001b[0m\u001b[0;34m:\u001b[0m\u001b[0;34m\u001b[0m\u001b[0;34m\u001b[0m\u001b[0m\n\u001b[0;32m---> 21\u001b[0;31m         \u001b[0mself\u001b[0m\u001b[0;34m.\u001b[0m\u001b[0mlabels\u001b[0m \u001b[0;34m=\u001b[0m \u001b[0;34m[\u001b[0m\u001b[0mlabels\u001b[0m\u001b[0;34m[\u001b[0m\u001b[0mlabel\u001b[0m\u001b[0;34m]\u001b[0m \u001b[0;32mfor\u001b[0m \u001b[0mlabel\u001b[0m \u001b[0;32min\u001b[0m \u001b[0mdf\u001b[0m\u001b[0;34m[\u001b[0m\u001b[0;34m'category'\u001b[0m\u001b[0;34m]\u001b[0m\u001b[0;34m]\u001b[0m\u001b[0;34m\u001b[0m\u001b[0;34m\u001b[0m\u001b[0m\n\u001b[0m\u001b[1;32m     22\u001b[0m         self.texts = [tokenizer(text,\n\u001b[1;32m     23\u001b[0m                                 \u001b[0mpadding\u001b[0m\u001b[0;34m=\u001b[0m\u001b[0;34m'max_length'\u001b[0m\u001b[0;34m,\u001b[0m\u001b[0;34m\u001b[0m\u001b[0;34m\u001b[0m\u001b[0m\n",
            "\u001b[0;31mIndexError\u001b[0m: only integers, slices (`:`), ellipsis (`...`), numpy.newaxis (`None`) and integer or boolean arrays are valid indices"
          ]
        }
      ],
      "source": [
        "def train(model, train_data, val_data, learning_rate, epochs):\n",
        "    train, val = Dataset(train_data), Dataset(val_data)\n",
        "    \n",
        "    train_dataloader = torch.utils.data.DataLoader(train, batch_size=2, shuffle=True)\n",
        "    val_dataloader = torch.utils.data.DataLoader(val, batch_size=2)\n",
        "    \n",
        "    use_cuda = torch.cuda.is_available()\n",
        "    device = torch.device(\"cuda\" if use_cuda else \"cpu\")\n",
        "    \n",
        "    criterion = nn.CrossEntropyLoss()\n",
        "    optimizer = Adam(model.parameters(), lr=learning_rate)\n",
        "    \n",
        "    if use_cuda:\n",
        "        model = model.cuda()\n",
        "        criterion = criterion.cuda()\n",
        "\n",
        "    for epoch_num in range(epochs):\n",
        "        total_acc_train = 0\n",
        "        total_loss_train = 0\n",
        "        \n",
        "        for train_input, train_label in tqdm(train_dataloader):\n",
        "            train_label = train_label.to(device)\n",
        "            mask = train_input['attention_mask'].to(device)\n",
        "            input_id = train_input[\"input_ids\"].squeeze(1).to(device)\n",
        "            \n",
        "            model.zero_grad()\n",
        "\n",
        "            output = model(input_id, mask)\n",
        "            \n",
        "            batch_loss = criterion(output, train_label)\n",
        "            total_loss_train += batch_loss.item()\n",
        "            \n",
        "            acc = (output.argmax(dim=1)==train_label).sum().item()\n",
        "            total_acc_train += acc\n",
        "\n",
        "            batch_loss.backward()\n",
        "            optimizer.step()\n",
        "            \n",
        "        total_acc_val = 0\n",
        "        total_loss_val = 0\n",
        "        \n",
        "        with torch.no_grad():\n",
        "            \n",
        "            for val_input, val_label in val_dataloader:\n",
        "                val_label = val_label.to(device)\n",
        "                mask = val_input['attention_mask'].to(device)\n",
        "                input_id = val_input['input_ids'].squeeze(1).to(device)\n",
        "                \n",
        "                output = model(input_id, mask)\n",
        "                \n",
        "                batch_loss = criterion(output, val_label)\n",
        "                total_loss_val += batch_loss.item()\n",
        "                \n",
        "                acc = (output.argmax(dim=1)==val_label).sum().item()\n",
        "                total_acc_val += acc\n",
        "                \n",
        "            print(\n",
        "            f\"Epochs: {epoch_num + 1} | Train Loss: {total_loss_train/len(train_data): .3f} \\\n",
        "            | Train Accuracy: {total_acc_train / len(train_data): .3f} \\\n",
        "            | Val Loss: {total_loss_val / len(val_data): .3f} \\\n",
        "            | Val Accuracy: {total_acc_val / len(val_data): .3f}\")\n",
        "            \n",
        "EPOCHS = 10\n",
        "#model = SimpleGPT2SequenceClassifier(hidden_size=768, num_classes=5, max_seq_len=128, gpt_model_name=\"gpt2\")\n",
        "model = SimpleGPT2SequenceClassifier(hidden_size=768, num_classes=2, max_seq_len=128, gpt_model_name=\"gpt2\")\n",
        "LR = 1e-5\n",
        "\n",
        "train(model, df_train, df_val, LR, EPOCHS)"
      ]
    },
    {
      "cell_type": "markdown",
      "id": "1ff5dea5",
      "metadata": {
        "id": "1ff5dea5"
      },
      "source": [
        "Looks like the model is already well trained after 1 epoch! This is probably due to the fact that as a pre-trained model with gigantic number of parameters, GPT-2 is already capable of differentiating different text paragraphs without too much tuning."
      ]
    },
    {
      "cell_type": "markdown",
      "id": "c9fe4ba4",
      "metadata": {
        "id": "c9fe4ba4"
      },
      "source": [
        "## Evaluation"
      ]
    },
    {
      "cell_type": "markdown",
      "id": "7f8de2c6",
      "metadata": {
        "id": "7f8de2c6"
      },
      "source": [
        "After model training, it's recommended to use the test data to evaluate the model performance on unseen data. I build the `evaluate` function according [this PyTorch guide](https://pytorch.org/tutorials/beginner/basics/optimization_tutorial.html)."
      ]
    },
    {
      "cell_type": "code",
      "execution_count": null,
      "id": "e9413304",
      "metadata": {
        "colab": {
          "base_uri": "https://localhost:8080/"
        },
        "id": "e9413304",
        "outputId": "88cdba18-b934-4f9c-a9e3-f0c823b97ee1"
      },
      "outputs": [
        {
          "output_type": "stream",
          "name": "stdout",
          "text": [
            "Test Accuracy:  0.667\n"
          ]
        }
      ],
      "source": [
        "def evaluate(model, test_data):\n",
        "\n",
        "    test = Dataset(test_data)\n",
        "\n",
        "    test_dataloader = torch.utils.data.DataLoader(test, batch_size=2)\n",
        "\n",
        "    use_cuda = torch.cuda.is_available()\n",
        "    device = torch.device(\"cuda\" if use_cuda else \"cpu\")\n",
        "\n",
        "    if use_cuda:\n",
        "\n",
        "        model = model.cuda()\n",
        "\n",
        "        \n",
        "    # Tracking variables\n",
        "    predictions_labels = []\n",
        "    true_labels = []\n",
        "    \n",
        "    total_acc_test = 0\n",
        "    with torch.no_grad():\n",
        "\n",
        "        for test_input, test_label in test_dataloader:\n",
        "\n",
        "            test_label = test_label.to(device)\n",
        "            mask = test_input['attention_mask'].to(device)\n",
        "            input_id = test_input['input_ids'].squeeze(1).to(device)\n",
        "\n",
        "            output = model(input_id, mask)\n",
        "\n",
        "            acc = (output.argmax(dim=1) == test_label).sum().item()\n",
        "            total_acc_test += acc\n",
        "            \n",
        "            # add original labels\n",
        "            true_labels += test_label.cpu().numpy().flatten().tolist()\n",
        "            # get predicitons to list\n",
        "            predictions_labels += output.argmax(dim=1).cpu().numpy().flatten().tolist()\n",
        "    \n",
        "    print(f'Test Accuracy: {total_acc_test / len(test_data): .3f}')\n",
        "    return true_labels, predictions_labels\n",
        "    \n",
        "true_labels, pred_labels = evaluate(model, df_test)\n",
        "\n",
        "\n"
      ]
    },
    {
      "cell_type": "code",
      "source": [
        "\n",
        "######\n",
        "from sklearn.metrics import f1_score\n",
        "from sklearn.metrics import confusion_matrix\n",
        "from sklearn.metrics import roc_auc_score\n",
        "\n",
        "test_f1 = f1_score(true_labels, pred_labels)\n",
        "print('Test F1 score:', test_f1)\n",
        "\n",
        "cm = confusion_matrix(true_labels,pred_labels)\n",
        "print('Matrix:', cm)\n",
        "\n",
        "auc_roc = roc_auc_score(true_labels, pred_labels)\n",
        "print(\"AUC-ROC:\", auc_roc)"
      ],
      "metadata": {
        "colab": {
          "base_uri": "https://localhost:8080/"
        },
        "id": "CawiT_d2puUj",
        "outputId": "304dd016-ae70-4fee-ab58-5e57e719118c"
      },
      "id": "CawiT_d2puUj",
      "execution_count": null,
      "outputs": [
        {
          "output_type": "stream",
          "name": "stdout",
          "text": [
            "Test F1 score: 0.75\n",
            "Matrix: [[ 6  9]\n",
            " [ 3 18]]\n",
            "AUC-ROC: 0.6285714285714286\n"
          ]
        }
      ]
    },
    {
      "cell_type": "markdown",
      "id": "d33be9b2",
      "metadata": {
        "id": "d33be9b2"
      },
      "source": [
        "Another good gauge of model performance is the confusion matrix."
      ]
    },
    {
      "cell_type": "code",
      "execution_count": null,
      "id": "2afbb69f",
      "metadata": {
        "colab": {
          "base_uri": "https://localhost:8080/",
          "height": 670
        },
        "id": "2afbb69f",
        "outputId": "7431ecde-14e1-4832-9de3-780ef0775799"
      },
      "outputs": [
        {
          "output_type": "execute_result",
          "data": {
            "text/plain": [
              "<sklearn.metrics._plot.confusion_matrix.ConfusionMatrixDisplay at 0x7fdf8e20b2b0>"
            ]
          },
          "metadata": {},
          "execution_count": 181
        },
        {
          "output_type": "display_data",
          "data": {
            "text/plain": [
              "<Figure size 800x800 with 2 Axes>"
            ],
            "image/png": "[encoded data removed]"
          },
          "metadata": {}
        }
      ],
      "source": [
        "# Plot confusion matrix.\n",
        "fig, ax = plt.subplots(figsize=(8, 8))\n",
        "cm = confusion_matrix(y_true=true_labels, y_pred=pred_labels, labels=range(len(labels)), normalize='true')\n",
        "disp = ConfusionMatrixDisplay(confusion_matrix=cm, display_labels=list(labels.keys()))\n",
        "disp.plot(ax=ax)"
      ]
    },
    {
      "cell_type": "markdown",
      "id": "939518c5",
      "metadata": {
        "id": "939518c5"
      },
      "source": [
        "## Saving and loading the model"
      ]
    },
    {
      "cell_type": "markdown",
      "id": "294e261b",
      "metadata": {
        "id": "294e261b"
      },
      "source": [
        "After training, we need to save the model locally. PyTorch models store the learned parameters in an internal state dictionary, called state_dict. These can be persisted via the torch.save method:"
      ]
    },
    {
      "cell_type": "code",
      "execution_count": null,
      "id": "a6104415",
      "metadata": {
        "id": "a6104415"
      },
      "outputs": [],
      "source": [
        "# save trained model\n",
        "torch.save(model.state_dict(), \"./gpt2-text-classifier-model_MN.pt\")"
      ]
    },
    {
      "cell_type": "markdown",
      "id": "78df99a7",
      "metadata": {
        "id": "78df99a7"
      },
      "source": [
        "To load model weights, you need to create an instance of the same model first, and then load the parameters using load_state_dict() method."
      ]
    },
    {
      "cell_type": "code",
      "execution_count": null,
      "id": "afcc233b",
      "metadata": {
        "colab": {
          "base_uri": "https://localhost:8080/"
        },
        "id": "afcc233b",
        "outputId": "9995d33c-7a58-4b1c-e1f0-df8f44768e38"
      },
      "outputs": [
        {
          "output_type": "execute_result",
          "data": {
            "text/plain": [
              "SimpleGPT2SequenceClassifier(\n",
              "  (gpt2model): GPT2Model(\n",
              "    (wte): Embedding(50257, 768)\n",
              "    (wpe): Embedding(1024, 768)\n",
              "    (drop): Dropout(p=0.1, inplace=False)\n",
              "    (h): ModuleList(\n",
              "      (0-11): 12 x GPT2Block(\n",
              "        (ln_1): LayerNorm((768,), eps=1e-05, elementwise_affine=True)\n",
              "        (attn): GPT2Attention(\n",
              "          (c_attn): Conv1D()\n",
              "          (c_proj): Conv1D()\n",
              "          (attn_dropout): Dropout(p=0.1, inplace=False)\n",
              "          (resid_dropout): Dropout(p=0.1, inplace=False)\n",
              "        )\n",
              "        (ln_2): LayerNorm((768,), eps=1e-05, elementwise_affine=True)\n",
              "        (mlp): GPT2MLP(\n",
              "          (c_fc): Conv1D()\n",
              "          (c_proj): Conv1D()\n",
              "          (act): NewGELUActivation()\n",
              "          (dropout): Dropout(p=0.1, inplace=False)\n",
              "        )\n",
              "      )\n",
              "    )\n",
              "    (ln_f): LayerNorm((768,), eps=1e-05, elementwise_affine=True)\n",
              "  )\n",
              "  (fc1): Linear(in_features=98304, out_features=2, bias=True)\n",
              ")"
            ]
          },
          "metadata": {},
          "execution_count": 123
        }
      ],
      "source": [
        "# load trained model\n",
        "#model_new = SimpleGPT2SequenceClassifier(hidden_size=768, num_classes=5, max_seq_len=128, gpt_model_name=\"gpt2\")\n",
        "model_new = SimpleGPT2SequenceClassifier(hidden_size=768, num_classes=2, max_seq_len=128, gpt_model_name=\"gpt2\")\n",
        "model_new.load_state_dict(torch.load(\"./gpt2-text-classifier-model_SF.pt\"))\n",
        "model_new.eval()"
      ]
    },
    {
      "cell_type": "markdown",
      "id": "5c487cf5",
      "metadata": {
        "id": "5c487cf5"
      },
      "source": [
        "## Model Inference"
      ]
    },
    {
      "cell_type": "markdown",
      "id": "dacec035",
      "metadata": {
        "id": "dacec035"
      },
      "source": [
        "Here we want to use the model to generate inferences. Here we use a clipped news from [BBC Politics](https://www.bbc.com/news/uk-60095459) as an example."
      ]
    },
    {
      "cell_type": "code",
      "execution_count": null,
      "id": "73c599d6",
      "metadata": {
        "colab": {
          "base_uri": "https://localhost:8080/"
        },
        "id": "73c599d6",
        "outputId": "36768215-a3c6-4e83-c401-db58ce8b02f6"
      },
      "outputs": [
        {
          "output_type": "stream",
          "name": "stdout",
          "text": [
            "good,i hope so,and i hope that the chinamen are also doing their part in sabotaging the zog ammo at the factorys.\n"
          ]
        }
      ],
      "source": [
        "example_text = \"\"\"\n",
        "good,i hope so,and i hope that the chinamen are also doing their part in sabotaging the zog ammo at the factorys. \n",
        "\n",
        "\"\"\"\n",
        "fixed_text = \" \".join(example_text.lower().split())\n",
        "print(fixed_text)\n",
        "\n",
        "tokenizer = GPT2Tokenizer.from_pretrained('gpt2')\n",
        "tokenizer.padding_side = \"left\"\n",
        "tokenizer.pad_token = tokenizer.eos_token\n",
        "\n",
        "model_input = tokenizer(fixed_text, padding='max_length', max_length=128, truncation=True, return_tensors=\"pt\")"
      ]
    },
    {
      "cell_type": "markdown",
      "id": "91fcf6a3",
      "metadata": {
        "id": "91fcf6a3"
      },
      "source": [
        "After text tokenization, we need to extract two inputs for the model, `input_id` and `mask`. "
      ]
    },
    {
      "cell_type": "code",
      "execution_count": null,
      "id": "f9319acd",
      "metadata": {
        "id": "f9319acd",
        "colab": {
          "base_uri": "https://localhost:8080/"
        },
        "outputId": "ca58cf64-38d3-4fca-a59f-7c8d0d9ac4f1"
      },
      "outputs": [
        {
          "output_type": "stream",
          "name": "stdout",
          "text": [
            "tensor([[3.6130, 7.5278]], grad_fn=<AddmmBackward0>)\n"
          ]
        }
      ],
      "source": [
        "mask = model_input['attention_mask'].cpu()\n",
        "input_id = model_input[\"input_ids\"].squeeze(1).cpu()\n",
        "\n",
        "output = model_new(input_id, mask)\n",
        "print(output)"
      ]
    },
    {
      "cell_type": "markdown",
      "id": "7860e64b",
      "metadata": {
        "id": "7860e64b"
      },
      "source": [
        "The output here is the model output for each label. We can normalize them as probabilities using Softmax algorithm."
      ]
    },
    {
      "cell_type": "code",
      "execution_count": null,
      "id": "f4de8a92",
      "metadata": {
        "id": "f4de8a92",
        "colab": {
          "base_uri": "https://localhost:8080/"
        },
        "outputId": "17348574-13cd-4a3b-b14a-44c0e5aa7d1a"
      },
      "outputs": [
        {
          "output_type": "stream",
          "name": "stdout",
          "text": [
            "tensor([0.0196, 0.9804], grad_fn=<SelectBackward0>)\n"
          ]
        }
      ],
      "source": [
        "prob = torch.nn.functional.softmax(output, dim=1)[0]\n",
        "print(prob)"
      ]
    },
    {
      "cell_type": "markdown",
      "id": "c369a4e1",
      "metadata": {
        "id": "c369a4e1"
      },
      "source": [
        "Let's see if our predictor can correctly classify this news as \"politics\"."
      ]
    },
    {
      "cell_type": "code",
      "execution_count": null,
      "id": "1ea88e42",
      "metadata": {
        "colab": {
          "base_uri": "https://localhost:8080/"
        },
        "id": "1ea88e42",
        "outputId": "45b87b95-5c84-485f-f2b0-0a068c4409c9"
      },
      "outputs": [
        {
          "output_type": "stream",
          "name": "stdout",
          "text": [
            "1\n"
          ]
        }
      ],
      "source": [
        "labels_map = {\n",
        "    0: 0,\n",
        "    1: 1\n",
        "    }\n",
        "\n",
        "'''\n",
        "labels_map = {\n",
        "    0: \"business\",\n",
        "    1: \"entertainment\",\n",
        "    2: \"sport\",\n",
        "    3: \"tech\",\n",
        "    4: \"politics\"\n",
        "         }\n",
        "'''\n",
        "\n",
        "pred_label = labels_map[output.argmax(dim=1).item()]\n",
        "print(pred_label)"
      ]
    },
    {
      "cell_type": "markdown",
      "id": "7525adef",
      "metadata": {
        "id": "7525adef"
      },
      "source": [
        "It can!"
      ]
    },
    {
      "cell_type": "markdown",
      "id": "e7906ab0",
      "metadata": {
        "id": "e7906ab0"
      },
      "source": [
        "## Clear cache"
      ]
    },
    {
      "cell_type": "markdown",
      "id": "f63cf55b",
      "metadata": {
        "id": "f63cf55b"
      },
      "source": [
        "If you are using PyTorch's CUDA version, remember to clear cache after running this notebook to avoid re-run issues."
      ]
    },
    {
      "cell_type": "code",
      "execution_count": null,
      "id": "2accc441",
      "metadata": {
        "id": "2accc441"
      },
      "outputs": [],
      "source": [
        "torch.cuda.empty_cache()"
      ]
    }
  ],
  "metadata": {
    "kernelspec": {
      "display_name": "Python 3 (ipykernel)",
      "language": "python",
      "name": "python3"
    },
    "language_info": {
      "codemirror_mode": {
        "name": "ipython",
        "version": 3
      },
      "file_extension": ".py",
      "mimetype": "text/x-python",
      "name": "python",
      "nbconvert_exporter": "python",
      "pygments_lexer": "ipython3",
      "version": "3.7.4"
    },
    "colab": {
      "provenance": [],
      "include_colab_link": true
    },
    "accelerator": "GPU"
  },
  "nbformat": 4,
  "nbformat_minor": 5
}